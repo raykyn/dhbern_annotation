{
 "cells": [
  {
   "cell_type": "code",
   "execution_count": 10,
   "id": "d331916c",
   "metadata": {},
   "outputs": [],
   "source": [
    "# Transkribus login data\n",
    "username = \"\"\n",
    "password = \"\"\n",
    "\n",
    "# An outfolder must exist\n",
    "outfolder = \"plain\""
   ]
  },
  {
   "cell_type": "code",
   "execution_count": 11,
   "id": "af3e96c2",
   "metadata": {},
   "outputs": [],
   "source": [
    "# connect to transkribus\n",
    "# iterate all pages\n",
    "# for each page get the pagexml\n",
    "# get the unicode elements for each line (that we judge relevant?)\n",
    "# print it in this form to a textfile\n",
    "\n",
    "from transkribusConnect import login, getDocumentR\n",
    "import xml.etree.ElementTree as et\n",
    "from pagexml.parser import parse_pagexml_file\n",
    "import requests\n",
    "import os\n",
    "from nltk.tokenize import WordPunctTokenizer\n",
    "\n",
    "data = login(username, password)\n",
    "data = et.fromstring(data)\n",
    "sid = data.find(\"sessionId\").text\n",
    "# colls = getCollections(sid)\n",
    "\n",
    "# input collection Id (first arg) and Document Id (second arg)\n",
    "doc = getDocumentR(169494, 1471871, sid)\n",
    "\n",
    "# Custom prefix for filenames\n",
    "custom_prefix = \"HGB_Exp_3\"\n",
    "\n",
    "for i, page in enumerate(doc[\"pageList\"][\"pages\"]):\n",
    "    i = i + 1  # start at 1 to match Transkribus page numbering\n",
    "    \"\"\" Debug\n",
    "    if i != 7:\n",
    "        continue\n",
    "    \"\"\"\n",
    "    transcript = page[\"tsList\"][\"transcripts\"][0]\n",
    "    r = requests.get(transcript[\"url\"])\n",
    "    r.encoding = \"utf-8\"\n",
    "    if r.status_code == requests.codes.ok:\n",
    "        text = r.text\n",
    "    else:\n",
    "        print(r)\n",
    "        print(\"Couldn't read transcript.\")\n",
    "        raise NotImplementedError\n",
    "    scan = parse_pagexml_file(\"\", pagexml_data=text, encoding=\"latin1\")\n",
    "    # open a new textfile named after the pagename\n",
    "    pagename = page[\"imgFileName\"].replace(\".jpg\", \".txt\")\n",
    "    pagename = f\"{i:03d}_{pagename}\"\n",
    "    if custom_prefix:\n",
    "        pagename = custom_prefix + \"_\" + pagename\n",
    "    outfile = open(os.path.join(outfolder, pagename), mode=\"w\", encoding=\"utf8\")\n",
    "    textregions = scan.get_text_regions_in_reading_order()\n",
    "    for textregion in textregions:\n",
    "        # i extract the header here as well but make sure i can remove it by putting a placeholder in front\n",
    "        if \"type\" in textregion.json[\"metadata\"] and textregion.json[\"metadata\"][\"type\"] == \"header\":\n",
    "            lines = textregion.get_lines()\n",
    "            for line in lines:\n",
    "                linetext = line.json[\"text\"]\n",
    "                if linetext:\n",
    "                    outfile.write(\"STARTDATE \" + linetext + \" ENDDATE\\n\")\n",
    "        if \"type\" in textregion.json[\"metadata\"] and textregion.json[\"metadata\"][\"type\"] == \"paragraph\":\n",
    "            lines = textregion.get_lines()\n",
    "            for line in lines:\n",
    "                linetext = line.json[\"text\"]\n",
    "                if linetext:\n",
    "                    # preprocess linetext by splitting punctuation from words\n",
    "                    # this also separates numbers, but i think we can live with that\n",
    "                    # it will be harder to reconnect those though\n",
    "                    linetext = \" \".join(WordPunctTokenizer().tokenize(linetext))\n",
    "\n",
    "                    outfile.write(linetext + \"\\n\")\n",
    "    outfile.close()\n"
   ]
  },
  {
   "cell_type": "code",
   "execution_count": null,
   "id": "56e8f99b",
   "metadata": {},
   "outputs": [],
   "source": []
  }
 ],
 "metadata": {
  "kernelspec": {
   "display_name": "Python 3",
   "language": "python",
   "name": "python3"
  },
  "language_info": {
   "codemirror_mode": {
    "name": "ipython",
    "version": 3
   },
   "file_extension": ".py",
   "mimetype": "text/x-python",
   "name": "python",
   "nbconvert_exporter": "python",
   "pygments_lexer": "ipython3",
   "version": "3.8.10"
  },
  "vscode": {
   "interpreter": {
    "hash": "916dbcbb3f70747c44a77c7bcd40155683ae19c65e1c03b4aa3499c5328201f1"
   }
  }
 },
 "nbformat": 4,
 "nbformat_minor": 5
}
